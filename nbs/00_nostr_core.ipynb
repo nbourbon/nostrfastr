{
 "cells": [
  {
   "cell_type": "code",
   "execution_count": 1,
   "metadata": {},
   "outputs": [],
   "source": [
    "#| default_exp nostr"
   ]
  },
  {
   "cell_type": "code",
   "execution_count": 2,
   "metadata": {},
   "outputs": [],
   "source": [
    "#| hide\n",
    "\n",
    "from nbdev.showdoc import *"
   ]
  },
  {
   "cell_type": "code",
   "execution_count": 3,
   "metadata": {},
   "outputs": [],
   "source": [
    "#| hide\n",
    "\n",
    "from nostr_relay import web"
   ]
  },
  {
   "cell_type": "code",
   "execution_count": 4,
   "metadata": {},
   "outputs": [
    {
     "name": "stdout",
     "output_type": "stream",
     "text": [
      "{'sqlalchemy.url': 'sqlite+aiosqlite:///../nostr-relay/nostr.sqlite3'}\n",
      "2023-02-16 18:44:27,687 - root - INFO - Starting version 1.10.5\n"
     ]
    },
    {
     "name": "stderr",
     "output_type": "stream",
     "text": [
      "/Users/nicolasbourbon/Documents/Personal/Python/Programs/repos/nostrfastr/.venv/lib/python3.11/site-packages/nostr_relay/storage/__init__.py:12: UserWarning: Please read https://code.pobblelabs.org/fossil/nostr_relay/doc/tip/docs/140upgrade.md for important upgrade information\n",
      "  warnings.warn(\n"
     ]
    },
    {
     "name": "stderr",
     "output_type": "stream",
     "text": [
      "INFO:     Started server process [9555]\n",
      "INFO:     Waiting for application startup.\n"
     ]
    },
    {
     "name": "stdout",
     "output_type": "stream",
     "text": [
      "2023-02-16 18:44:27,772 - nostr_relay.storage - INFO - Connected to sqlite+aiosqlite:///../nostr-relay/nostr.sqlite3\n",
      "2023-02-16 18:44:27,774 - nostr_relay.storage:gc - INFO - Starting garbage collector QueryGarbageCollector. Interval 300\n"
     ]
    },
    {
     "name": "stderr",
     "output_type": "stream",
     "text": [
      "INFO:     Application startup complete.\n",
      "INFO:     Uvicorn running on http://127.0.0.1:6969 (Press CTRL+C to quit)\n"
     ]
    }
   ],
   "source": [
    "#| hide\n",
    "\n",
    "web.run_with_uvicorn(conf_file='../nostr-relay/nostr-relay-config.yml', in_thread=True)"
   ]
  },
  {
   "attachments": {},
   "cell_type": "markdown",
   "metadata": {},
   "source": [
    "# nostr_core\n",
    "\n",
    "> Learn about the nostr protocol and how we call it from python with `python-nostr`"
   ]
  },
  {
   "attachments": {},
   "cell_type": "markdown",
   "metadata": {},
   "source": [
    ">This repository relies heavily on [python-nostr](https://github.com/jeffthibault/python-nostr) for underlying functionality. This notebook will walk you through the key characteristics of the nostr protocol and also make some changes to the classes from `python-nostr` that will be used in the basic client implementation.\n",
    "\n",
    "## What is nostr?\n",
    "This notebook will attempt to describe nostr via python code. There are many resources dedicated to describing nostr in words. See:\n",
    "\n",
    " - [the readme on the nostr protocol github](https://github.com/nostr-protocol/nostr#readme)\n",
    " - [the Nostr Improvement Proposal (NIPs) nostr protocol github](https://github.com/nostr-protocol/nips#readme) has detailed descriptions of technical implementations and is very well-documented.\n",
    " - [usenostr.org](https://usenostr.org/) for a basic and approachable description\n",
    " - [awesome-nostr](https://github.com/aljazceru/awesome-nostr#readme) for a complete list of tools and resources.\n",
    "\n",
    "In short, nostr is a communication protocol that provides a relatively simple framework for events and metadata to be published to servers (relays) after being cryptographically signed using a private key. In orther words, the data published to the relays is visible by anyone, but provably created by the person who holds the private key associated with the event. A technical description of how the events are created can be found [here](https://github.com/nostr-protocol/nips/blob/master/01.md#events-and-signatures) and a current list of the different event types [here](https://github.com/nostr-protocol/nips#event-kinds).\n",
    "\n",
    "Because of the simplicity and openness of the nostr protocol a long list of tools and clients with different purposes have already been built on the nostr protocol as can be seen on [awesome-nostr](https://github.com/aljazceru/awesome-nostr#readme). There will continue to be more as new people are exposed to the protocol and the accepted event types continue to expand.\n",
    "\n",
    "Fundamentally, nostr relays and clients are built on a relatively simple set of tools - most of which can be described nicely by looking at the modules of `python-nostr`, which is what we'll do here. Specifically, covered topics in this notebook can be accessed quickly via the sidebar and include:\n",
    "\n",
    " - `PrivateKey` and `PublicKey`\n",
    " - `Event`\n",
    " - `Relay`, `RelayManager`, and the `MessagePool`\n",
    " - `Subscription`"
   ]
  },
  {
   "attachments": {},
   "cell_type": "markdown",
   "metadata": {},
   "source": [
    "## Private and Public Keys\n",
    "In nostr, the private key is the root of \"account\" ownership. The public key is derived from a private key using the same eliptic curve cryptography that is used for bitcoint private and public key pairs. nostr events are then signed using [Schnorr Signatures](https://bips.xyz/340), which prove \"ownership\" of the event. We will cover events in more detail later.\n",
    "\n",
    "In this documentation you will see two versions of the `PublicKey` and `PrivateKey` classes, one version loaded directly from the `python-nostr.key` module as `key.Class` and one with added hex and bech32 functionality as denoted without `key.` in front.\n",
    "\n",
    "First, let's look at the `PrivateKey` classes"
   ]
  },
  {
   "cell_type": "code",
   "execution_count": 5,
   "metadata": {},
   "outputs": [],
   "source": [
    "#| export\n",
    "from nostr import key\n",
    "from nostr import bech32\n",
    "import secp256k1\n",
    "from fastcore.utils import patch"
   ]
  },
  {
   "cell_type": "code",
   "execution_count": 6,
   "metadata": {},
   "outputs": [],
   "source": [
    "#| export\n",
    "#| hide\n",
    "\n",
    "class PrivateKey(key.PrivateKey):\n",
    "    \"\"\"a class to manage private keys inherited from\n",
    "    python-nostr.key.PrivateKey, with a from_hex() class method added\n",
    "    \"\"\"\n",
    "    def __init__(self, *args, **kwargs):\n",
    "        \"\"\"create a private key from raw bytes\n",
    "        \"\"\"\n",
    "        super().__init__(*args, **kwargs)\n",
    "        sk = secp256k1.PrivateKey(self.raw_secret)\n",
    "        self.public_key = PublicKey(sk.pubkey.serialize()[1:])\n",
    "\n",
    "    def __repr__(self):\n",
    "        pubkey = self.public_key.bech32()\n",
    "        return f'PrivateKey({pubkey[:10]}...{pubkey[-10:]})'\n",
    "\n",
    "    @classmethod\n",
    "    def from_hex(cls, hex: str) -> 'PrivateKey':\n",
    "        return cls(bytes.fromhex(hex))\n",
    "\n",
    "class PublicKey(key.PublicKey):\n",
    "    def __init__(self, *args, **kwargs):\n",
    "        super().__init__(*args, **kwargs)\n",
    "\n",
    "    def __repr__(self):\n",
    "        pubkey = self.bech32()\n",
    "        return f'PublicKey({pubkey[:10]}...{pubkey[-10:]})'\n",
    "    \n",
    "    @classmethod\n",
    "    def from_npub(cls, npub: str):\n",
    "        \"\"\" Load a PublicKey from its bech32/npub form \"\"\"\n",
    "        hrp, data, spec = bech32.bech32_decode(npub)\n",
    "        raw_bytes = bech32.convertbits(data, 5, 8)[:-1]\n",
    "        return cls(bytes(raw_bytes))\n",
    "\n",
    "    @classmethod\n",
    "    def from_hex(cls, hex: str) -> 'PrivateKey':\n",
    "        return cls(bytes.fromhex(hex))"
   ]
  },
  {
   "attachments": {},
   "cell_type": "markdown",
   "metadata": {},
   "source": [
    "By default the class is instantiated with raw bytes as shown below"
   ]
  },
  {
   "cell_type": "code",
   "execution_count": 7,
   "metadata": {},
   "outputs": [
    {
     "data": {
      "text/markdown": [
       "---\n",
       "\n",
       "### PrivateKey\n",
       "\n",
       ">      PrivateKey (raw_secret:bytes=None)\n",
       "\n",
       "Initialize self.  See help(type(self)) for accurate signature."
      ],
      "text/plain": [
       "---\n",
       "\n",
       "### PrivateKey\n",
       "\n",
       ">      PrivateKey (raw_secret:bytes=None)\n",
       "\n",
       "Initialize self.  See help(type(self)) for accurate signature."
      ]
     },
     "execution_count": 7,
     "metadata": {},
     "output_type": "execute_result"
    }
   ],
   "source": [
    "show_doc(key.PrivateKey)"
   ]
  },
  {
   "attachments": {},
   "cell_type": "markdown",
   "metadata": {},
   "source": [
    "Instantiation with no argument gives a new random private key"
   ]
  },
  {
   "cell_type": "code",
   "execution_count": 8,
   "metadata": {},
   "outputs": [
    {
     "name": "stdout",
     "output_type": "stream",
     "text": [
      "PrivateKey(npub1j8l27...zthqnwmn00)\n"
     ]
    }
   ],
   "source": [
    "private_key = PrivateKey()\n",
    "print(private_key)"
   ]
  },
  {
   "attachments": {},
   "cell_type": "markdown",
   "metadata": {},
   "source": [
    "more commonly you will likely instantiate the private key from a hex string"
   ]
  },
  {
   "cell_type": "code",
   "execution_count": 9,
   "metadata": {},
   "outputs": [
    {
     "data": {
      "text/markdown": [
       "---\n",
       "\n",
       "[source](https://github.com/armstrys/nostrfastr/blob/main/nostrfastr/nostr.py#L29){target=\"_blank\" style=\"float:right; font-size:smaller\"}\n",
       "\n",
       "### PrivateKey.from_hex\n",
       "\n",
       ">      PrivateKey.from_hex (hex:str)"
      ],
      "text/plain": [
       "---\n",
       "\n",
       "[source](https://github.com/armstrys/nostrfastr/blob/main/nostrfastr/nostr.py#L29){target=\"_blank\" style=\"float:right; font-size:smaller\"}\n",
       "\n",
       "### PrivateKey.from_hex\n",
       "\n",
       ">      PrivateKey.from_hex (hex:str)"
      ]
     },
     "execution_count": null,
     "metadata": {},
     "output_type": "execute_result"
    }
   ],
   "source": [
    "show_doc(PrivateKey.from_hex)"
   ]
  },
  {
   "cell_type": "code",
   "execution_count": 10,
   "metadata": {},
   "outputs": [],
   "source": [
    "private_key_hex = private_key.hex()\n",
    "the_same_private_key = PrivateKey.from_hex(private_key_hex)\n",
    "assert private_key.hex() == the_same_private_key.hex()"
   ]
  },
  {
   "attachments": {},
   "cell_type": "markdown",
   "metadata": {},
   "source": [
    "or after the introduction of [bech32 entities in NIP-19](https://github.com/nostr-protocol/nips/blob/master/19.md) (private keys denoted as `nsec...`) like so"
   ]
  },
  {
   "cell_type": "code",
   "execution_count": 11,
   "metadata": {},
   "outputs": [
    {
     "data": {
      "text/markdown": [
       "---\n",
       "\n",
       "### PrivateKey.from_nsec\n",
       "\n",
       ">      PrivateKey.from_nsec (nsec:str)\n",
       "\n",
       "Load a PrivateKey from its bech32/nsec form"
      ],
      "text/plain": [
       "---\n",
       "\n",
       "### PrivateKey.from_nsec\n",
       "\n",
       ">      PrivateKey.from_nsec (nsec:str)\n",
       "\n",
       "Load a PrivateKey from its bech32/nsec form"
      ]
     },
     "execution_count": null,
     "metadata": {},
     "output_type": "execute_result"
    }
   ],
   "source": [
    "show_doc(PrivateKey.from_nsec)"
   ]
  },
  {
   "cell_type": "code",
   "execution_count": 12,
   "metadata": {},
   "outputs": [],
   "source": [
    "private_key_bech32 = private_key.bech32()\n",
    "the_same_private_key = PrivateKey.from_nsec(private_key_bech32)\n",
    "assert private_key.bech32() == the_same_private_key.bech32()"
   ]
  },
  {
   "attachments": {},
   "cell_type": "markdown",
   "metadata": {},
   "source": [
    "The `PublicKey` class from `python-nostr` has very similar characteristics to the private key class, but with the key difference that the public key can be generated from the private key and the reverse is not possible by design. Below are the docs for instantiating a `PublicKey` object in `python-nostr`"
   ]
  },
  {
   "cell_type": "code",
   "execution_count": 13,
   "metadata": {},
   "outputs": [
    {
     "data": {
      "text/markdown": [
       "---\n",
       "\n",
       "### PublicKey\n",
       "\n",
       ">      PublicKey (raw_bytes:bytes)\n",
       "\n",
       "Initialize self.  See help(type(self)) for accurate signature."
      ],
      "text/plain": [
       "---\n",
       "\n",
       "### PublicKey\n",
       "\n",
       ">      PublicKey (raw_bytes:bytes)\n",
       "\n",
       "Initialize self.  See help(type(self)) for accurate signature."
      ]
     },
     "execution_count": null,
     "metadata": {},
     "output_type": "execute_result"
    }
   ],
   "source": [
    "show_doc(key.PublicKey)"
   ]
  },
  {
   "attachments": {},
   "cell_type": "markdown",
   "metadata": {},
   "source": [
    "Unlike the `PrivateKey` class, the `PublicKey` class requires an input to be created. A random public key would mean that no one knows the associated private key and so that is not allowed. Instead, we will get our public key from the private key we already generated"
   ]
  },
  {
   "cell_type": "code",
   "execution_count": 14,
   "metadata": {},
   "outputs": [
    {
     "name": "stdout",
     "output_type": "stream",
     "text": [
      "PublicKey(npub1j8l27...zthqnwmn00)\n"
     ]
    }
   ],
   "source": [
    "public_key = private_key.public_key\n",
    "print(public_key)\n",
    "assert isinstance(public_key, PublicKey)"
   ]
  },
  {
   "attachments": {},
   "cell_type": "markdown",
   "metadata": {},
   "source": [
    "The public can can also be retrieved from a public hex"
   ]
  },
  {
   "cell_type": "code",
   "execution_count": 15,
   "metadata": {},
   "outputs": [
    {
     "data": {
      "text/markdown": [
       "---\n",
       "\n",
       "[source](https://github.com/armstrys/nostrfastr/blob/main/nostrfastr/nostr.py#L48){target=\"_blank\" style=\"float:right; font-size:smaller\"}\n",
       "\n",
       "### PublicKey.from_hex\n",
       "\n",
       ">      PublicKey.from_hex (hex:str)"
      ],
      "text/plain": [
       "---\n",
       "\n",
       "[source](https://github.com/armstrys/nostrfastr/blob/main/nostrfastr/nostr.py#L48){target=\"_blank\" style=\"float:right; font-size:smaller\"}\n",
       "\n",
       "### PublicKey.from_hex\n",
       "\n",
       ">      PublicKey.from_hex (hex:str)"
      ]
     },
     "execution_count": null,
     "metadata": {},
     "output_type": "execute_result"
    }
   ],
   "source": [
    "show_doc(PublicKey.from_hex)"
   ]
  },
  {
   "cell_type": "code",
   "execution_count": 16,
   "metadata": {},
   "outputs": [],
   "source": [
    "public_key_hex = public_key.hex()\n",
    "the_same_public_key = PublicKey.from_hex(public_key_hex)\n",
    "assert public_key.hex() == the_same_public_key.hex()"
   ]
  },
  {
   "attachments": {},
   "cell_type": "markdown",
   "metadata": {},
   "source": [
    "or an npub bech32 encoded public key"
   ]
  },
  {
   "cell_type": "code",
   "execution_count": 17,
   "metadata": {},
   "outputs": [
    {
     "data": {
      "text/markdown": [
       "---\n",
       "\n",
       "[source](https://github.com/armstrys/nostrfastr/blob/main/nostrfastr/nostr.py#L41){target=\"_blank\" style=\"float:right; font-size:smaller\"}\n",
       "\n",
       "### PublicKey.from_npub\n",
       "\n",
       ">      PublicKey.from_npub (npub:str)\n",
       "\n",
       "Load a PublicKey from its bech32/npub form"
      ],
      "text/plain": [
       "---\n",
       "\n",
       "[source](https://github.com/armstrys/nostrfastr/blob/main/nostrfastr/nostr.py#L41){target=\"_blank\" style=\"float:right; font-size:smaller\"}\n",
       "\n",
       "### PublicKey.from_npub\n",
       "\n",
       ">      PublicKey.from_npub (npub:str)\n",
       "\n",
       "Load a PublicKey from its bech32/npub form"
      ]
     },
     "execution_count": null,
     "metadata": {},
     "output_type": "execute_result"
    }
   ],
   "source": [
    "show_doc(PublicKey.from_npub)"
   ]
  },
  {
   "cell_type": "code",
   "execution_count": 18,
   "metadata": {},
   "outputs": [],
   "source": [
    "public_key_bech32 = public_key.bech32()\n",
    "the_same_public_key = PublicKey.from_npub(public_key_bech32)\n",
    "assert public_key.bech32() == the_same_public_key.bech32()"
   ]
  },
  {
   "attachments": {},
   "cell_type": "markdown",
   "metadata": {},
   "source": [
    "## Nostr Events\n",
    "Events are the key substance through which user communication happens over Nostr. Right now, the most common event type is a `text_note`, but there are [many other event kinds](https://github.com/nostr-protocol/nips#event-kinds) that can be published to a nostr relay. Events are generally made up of the following:\n",
    "\n",
    " - `id` - the hash of the event content - if the content of the a created event changes on a relay the old `id` would no longer match the hash of the content\n",
    " - `pubkey` - the public key of the author of the event\n",
    " - `created_at` - a time stamp given to the event at time of creation\n",
    " - `kind` - integer labeling the kind of event\n",
    " - `tags` - a list of arrays with tags such as `e` for related events or `p` for related people (like mentions)\n",
    " - `content` - the content of an event - the format of the content will vary depending on the kind of event. For a `text_note` (kind 1) this would be a string\n",
    " - `signature` - a signature generated from the private key associated with the public key **and** the event ID field - a valid signature ensures that anyone can check that a specific event was in fact signed by the private key of the author and that the content has not changed from the time the event was signed.\n",
    "\n",
    " > **Note:** the above all applies specifically to event *creation*. An event can be republished across many relays by any party as long as the event data has not changed. Some relays have limits on the age of an event, but where the event lives and who put it there is completely irrelevant to the validity of an event. This has many interesting implications, some of which will be explored elsewhere in this module.\n",
    "\n",
    "In `python-nostr` we create events like so:"
   ]
  },
  {
   "cell_type": "code",
   "execution_count": 19,
   "metadata": {},
   "outputs": [],
   "source": [
    "from nostr.event import Event, EventKind\n",
    "import time\n",
    "import pprint\n",
    "from fastcore.test import test_fail"
   ]
  },
  {
   "cell_type": "code",
   "execution_count": 20,
   "metadata": {},
   "outputs": [
    {
     "data": {
      "text/markdown": [
       "---\n",
       "\n",
       "### Event\n",
       "\n",
       ">      Event (public_key:str, content:str, created_at:int=1674322514,\n",
       ">             kind:int=<EventKind.TEXT_NOTE: 1>, tags:list[list[str]]=[],\n",
       ">             id:str=None, signature:str=None)\n",
       "\n",
       "Initialize self.  See help(type(self)) for accurate signature."
      ],
      "text/plain": [
       "---\n",
       "\n",
       "### Event\n",
       "\n",
       ">      Event (public_key:str, content:str, created_at:int=1674322514,\n",
       ">             kind:int=<EventKind.TEXT_NOTE: 1>, tags:list[list[str]]=[],\n",
       ">             id:str=None, signature:str=None)\n",
       "\n",
       "Initialize self.  See help(type(self)) for accurate signature."
      ]
     },
     "execution_count": null,
     "metadata": {},
     "output_type": "execute_result"
    }
   ],
   "source": [
    "show_doc(Event)"
   ]
  },
  {
   "attachments": {},
   "cell_type": "markdown",
   "metadata": {},
   "source": [
    "As example, we can create a new event"
   ]
  },
  {
   "cell_type": "code",
   "execution_count": 22,
   "metadata": {},
   "outputs": [
    {
     "name": "stdout",
     "output_type": "stream",
     "text": [
      "('[\"EVENT\", {\"id\": '\n",
      " '\"145b32172390c65bd97cbda9a5ec6dc96b07ee63fa81abcf7d6f23a5a9738f31\", '\n",
      " '\"pubkey\": '\n",
      " '\"7d94e9d07c292f5baa6c50a3cf78a70ac2804d62897a1ee8c7829e1fc9aec9ab\", '\n",
      " '\"created_at\": 1676584026, \"kind\": 1, \"tags\": [], \"content\": \"this is a '\n",
      " 'test\", \"sig\": null}]')\n"
     ]
    }
   ],
   "source": [
    "event = Event(\n",
    "    public_key=public_key.hex(),\n",
    "    content='this is a test',\n",
    "    kind=EventKind.TEXT_NOTE,\n",
    "    created_at=int(time.time(),)\n",
    ")\n",
    "pprint.pprint(event.to_message())"
   ]
  },
  {
   "attachments": {},
   "cell_type": "markdown",
   "metadata": {},
   "source": [
    "The id hash is automatically generated from the event content, but the signature is blank because the event has not been signed with a private key. Below we can test signing an event with our real private key and also a random private key. We see that one event verifies that the public key, signature, and event id all match, while the event signed with the wrong private key does not verify."
   ]
  },
  {
   "cell_type": "code",
   "execution_count": 27,
   "metadata": {},
   "outputs": [
    {
     "name": "stdout",
     "output_type": "stream",
     "text": [
      "('[\"EVENT\", {\"id\": '\n",
      " '\"145b32172390c65bd97cbda9a5ec6dc96b07ee63fa81abcf7d6f23a5a9738f31\", '\n",
      " '\"pubkey\": '\n",
      " '\"7d94e9d07c292f5baa6c50a3cf78a70ac2804d62897a1ee8c7829e1fc9aec9ab\", '\n",
      " '\"created_at\": 1676584026, \"kind\": 1, \"tags\": [], \"content\": \"this is a '\n",
      " 'test\", \"sig\": '\n",
      " '\"687263fcd38bf04d3ff5dcac45526b6bf5695af61be5ab06436cc0150585d5d0a241c0abfc49fd76a8e94e33ec21b980be688bcb2995dad5208eab14e7390a6c\"}]')\n"
     ]
    }
   ],
   "source": [
    "PrivateKey().sign_event(event)\n",
    "assert not event.verify()\n",
    "private_key.sign_event(event)\n",
    "assert event.verify()\n",
    "pprint.pprint(event.to_message())"
   ]
  },
  {
   "attachments": {},
   "cell_type": "markdown",
   "metadata": {},
   "source": [
    "Additionally, if we change the content and don't recompute both the `ID` and the `signature` then the event will not verify."
   ]
  },
  {
   "cell_type": "code",
   "execution_count": 29,
   "metadata": {},
   "outputs": [],
   "source": [
    "event.created_at = time.time()\n",
    "event.id = event.compute_id(public_key=event.public_key, created_at=event.created_at, kind=event.kind, tags=event.tags, content=event.content)\n",
    "assert not event.verify()\n",
    "\n",
    "event.created_at = time.time()\n",
    "private_key.sign_event(event)\n",
    "assert not event.verify()"
   ]
  },
  {
   "attachments": {},
   "cell_type": "markdown",
   "metadata": {},
   "source": [
    "As long as we do both of these things the event verifies event with changed data."
   ]
  },
  {
   "cell_type": "code",
   "execution_count": 32,
   "metadata": {},
   "outputs": [],
   "source": [
    "event.created_at = time.time()\n",
    "event.id = event.compute_id(public_key=event.public_key, created_at=event.created_at, kind=event.kind, tags=event.tags, content=event.content)\n",
    "private_key.sign_event(event)\n",
    "assert event.verify()"
   ]
  },
  {
   "attachments": {},
   "cell_type": "markdown",
   "metadata": {},
   "source": [
    "`python-nostr` also supports other event types. The basic client module in this library can help build the content and tags of other event types in the correct format."
   ]
  },
  {
   "cell_type": "code",
   "execution_count": 33,
   "metadata": {},
   "outputs": [
    {
     "data": {
      "text/plain": [
       "<EventKind.SET_METADATA: 0>"
      ]
     },
     "metadata": {},
     "output_type": "display_data"
    },
    {
     "data": {
      "text/plain": [
       "<EventKind.TEXT_NOTE: 1>"
      ]
     },
     "metadata": {},
     "output_type": "display_data"
    },
    {
     "data": {
      "text/plain": [
       "<EventKind.RECOMMEND_RELAY: 2>"
      ]
     },
     "metadata": {},
     "output_type": "display_data"
    },
    {
     "data": {
      "text/plain": [
       "<EventKind.CONTACTS: 3>"
      ]
     },
     "metadata": {},
     "output_type": "display_data"
    },
    {
     "data": {
      "text/plain": [
       "<EventKind.ENCRYPTED_DIRECT_MESSAGE: 4>"
      ]
     },
     "metadata": {},
     "output_type": "display_data"
    },
    {
     "data": {
      "text/plain": [
       "<EventKind.DELETE: 5>"
      ]
     },
     "metadata": {},
     "output_type": "display_data"
    },
    {
     "name": "stdout",
     "output_type": "stream",
     "text": [
      "2023-02-16 18:54:27,815 - nostr_relay.storage:gc - ERROR - run_once\n",
      "Traceback (most recent call last):\n",
      "  File \"/Users/nicolasbourbon/Documents/Personal/Python/Programs/repos/nostrfastr/.venv/lib/python3.11/site-packages/sqlalchemy/engine/base.py\", line 1964, in _exec_single_context\n",
      "    self.dialect.do_execute(\n",
      "  File \"/Users/nicolasbourbon/Documents/Personal/Python/Programs/repos/nostrfastr/.venv/lib/python3.11/site-packages/sqlalchemy/engine/default.py\", line 747, in do_execute\n",
      "    cursor.execute(statement, parameters)\n",
      "  File \"/Users/nicolasbourbon/Documents/Personal/Python/Programs/repos/nostrfastr/.venv/lib/python3.11/site-packages/sqlalchemy/dialects/sqlite/aiosqlite.py\", line 113, in execute\n",
      "    self._adapt_connection._handle_exception(error)\n",
      "  File \"/Users/nicolasbourbon/Documents/Personal/Python/Programs/repos/nostrfastr/.venv/lib/python3.11/site-packages/sqlalchemy/dialects/sqlite/aiosqlite.py\", line 254, in _handle_exception\n",
      "    raise error\n",
      "  File \"/Users/nicolasbourbon/Documents/Personal/Python/Programs/repos/nostrfastr/.venv/lib/python3.11/site-packages/sqlalchemy/dialects/sqlite/aiosqlite.py\", line 95, in execute\n",
      "    self.await_(_cursor.execute(operation, parameters))\n",
      "  File \"/Users/nicolasbourbon/Documents/Personal/Python/Programs/repos/nostrfastr/.venv/lib/python3.11/site-packages/sqlalchemy/util/_concurrency_py3k.py\", line 102, in await_only\n",
      "    return current.driver.switch(awaitable)  # type: ignore[no-any-return]\n",
      "           ^^^^^^^^^^^^^^^^^^^^^^^^^^^^^^^^\n",
      "  File \"/Users/nicolasbourbon/Documents/Personal/Python/Programs/repos/nostrfastr/.venv/lib/python3.11/site-packages/sqlalchemy/util/_concurrency_py3k.py\", line 160, in greenlet_spawn\n",
      "    value = await result\n",
      "            ^^^^^^^^^^^^\n",
      "  File \"/Users/nicolasbourbon/Documents/Personal/Python/Programs/repos/nostrfastr/.venv/lib/python3.11/site-packages/aiosqlite/cursor.py\", line 37, in execute\n",
      "    await self._execute(self._cursor.execute, sql, parameters)\n",
      "  File \"/Users/nicolasbourbon/Documents/Personal/Python/Programs/repos/nostrfastr/.venv/lib/python3.11/site-packages/aiosqlite/cursor.py\", line 31, in _execute\n",
      "    return await self._conn._execute(fn, *args, **kwargs)\n",
      "           ^^^^^^^^^^^^^^^^^^^^^^^^^^^^^^^^^^^^^^^^^^^^^^\n",
      "  File \"/Users/nicolasbourbon/Documents/Personal/Python/Programs/repos/nostrfastr/.venv/lib/python3.11/site-packages/aiosqlite/core.py\", line 137, in _execute\n",
      "    return await future\n",
      "           ^^^^^^^^^^^^\n",
      "  File \"/Users/nicolasbourbon/Documents/Personal/Python/Programs/repos/nostrfastr/.venv/lib/python3.11/site-packages/aiosqlite/core.py\", line 110, in run\n",
      "    result = function()\n",
      "             ^^^^^^^^^^\n",
      "sqlite3.OperationalError: no such table: events\n",
      "\n",
      "The above exception was the direct cause of the following exception:\n",
      "\n",
      "Traceback (most recent call last):\n",
      "  File \"/Users/nicolasbourbon/Documents/Personal/Python/Programs/repos/nostrfastr/.venv/lib/python3.11/site-packages/nostr_relay/util.py\", line 114, in _run\n",
      "    await self.run_once()\n",
      "  File \"/Library/Frameworks/Python.framework/Versions/3.11/lib/python3.11/contextlib.py\", line 222, in __aexit__\n",
      "    await self.gen.athrow(typ, value, traceback)\n",
      "  File \"/Users/nicolasbourbon/Documents/Personal/Python/Programs/repos/nostrfastr/.venv/lib/python3.11/site-packages/sqlalchemy/ext/asyncio/engine.py\", line 968, in begin\n",
      "    yield conn\n",
      "  File \"/Users/nicolasbourbon/Documents/Personal/Python/Programs/repos/nostrfastr/.venv/lib/python3.11/site-packages/nostr_relay/storage/base.py\", line 330, in run_once\n",
      "    collected = await self.collect(conn)\n",
      "                ^^^^^^^^^^^^^^^^^^^^^^^^\n",
      "  File \"/Users/nicolasbourbon/Documents/Personal/Python/Programs/repos/nostrfastr/.venv/lib/python3.11/site-packages/nostr_relay/storage/db.py\", line 690, in collect\n",
      "    result = await conn.execute(\n",
      "             ^^^^^^^^^^^^^^^^^^^\n",
      "  File \"/Users/nicolasbourbon/Documents/Personal/Python/Programs/repos/nostrfastr/.venv/lib/python3.11/site-packages/sqlalchemy/ext/asyncio/engine.py\", line 594, in execute\n",
      "    result = await greenlet_spawn(\n",
      "             ^^^^^^^^^^^^^^^^^^^^^\n",
      "  File \"/Users/nicolasbourbon/Documents/Personal/Python/Programs/repos/nostrfastr/.venv/lib/python3.11/site-packages/sqlalchemy/util/_concurrency_py3k.py\", line 165, in greenlet_spawn\n",
      "    result = context.throw(*sys.exc_info())\n",
      "             ^^^^^^^^^^^^^^^^^^^^^^^^^^^^^^\n",
      "  File \"/Users/nicolasbourbon/Documents/Personal/Python/Programs/repos/nostrfastr/.venv/lib/python3.11/site-packages/sqlalchemy/engine/base.py\", line 1414, in execute\n",
      "    return meth(\n",
      "           ^^^^^\n",
      "  File \"/Users/nicolasbourbon/Documents/Personal/Python/Programs/repos/nostrfastr/.venv/lib/python3.11/site-packages/sqlalchemy/sql/elements.py\", line 485, in _execute_on_connection\n",
      "    return connection._execute_clauseelement(\n",
      "           ^^^^^^^^^^^^^^^^^^^^^^^^^^^^^^^^^^\n",
      "  File \"/Users/nicolasbourbon/Documents/Personal/Python/Programs/repos/nostrfastr/.venv/lib/python3.11/site-packages/sqlalchemy/engine/base.py\", line 1638, in _execute_clauseelement\n",
      "    ret = self._execute_context(\n",
      "          ^^^^^^^^^^^^^^^^^^^^^^\n",
      "  File \"/Users/nicolasbourbon/Documents/Personal/Python/Programs/repos/nostrfastr/.venv/lib/python3.11/site-packages/sqlalchemy/engine/base.py\", line 1842, in _execute_context\n",
      "    return self._exec_single_context(\n",
      "           ^^^^^^^^^^^^^^^^^^^^^^^^^^\n",
      "  File \"/Users/nicolasbourbon/Documents/Personal/Python/Programs/repos/nostrfastr/.venv/lib/python3.11/site-packages/sqlalchemy/engine/base.py\", line 1983, in _exec_single_context\n",
      "    self._handle_dbapi_exception(\n",
      "  File \"/Users/nicolasbourbon/Documents/Personal/Python/Programs/repos/nostrfastr/.venv/lib/python3.11/site-packages/sqlalchemy/engine/base.py\", line 2325, in _handle_dbapi_exception\n",
      "    raise sqlalchemy_exception.with_traceback(exc_info[2]) from e\n",
      "  File \"/Users/nicolasbourbon/Documents/Personal/Python/Programs/repos/nostrfastr/.venv/lib/python3.11/site-packages/sqlalchemy/engine/base.py\", line 1964, in _exec_single_context\n",
      "    self.dialect.do_execute(\n",
      "  File \"/Users/nicolasbourbon/Documents/Personal/Python/Programs/repos/nostrfastr/.venv/lib/python3.11/site-packages/sqlalchemy/engine/default.py\", line 747, in do_execute\n",
      "    cursor.execute(statement, parameters)\n",
      "  File \"/Users/nicolasbourbon/Documents/Personal/Python/Programs/repos/nostrfastr/.venv/lib/python3.11/site-packages/sqlalchemy/dialects/sqlite/aiosqlite.py\", line 113, in execute\n",
      "    self._adapt_connection._handle_exception(error)\n",
      "  File \"/Users/nicolasbourbon/Documents/Personal/Python/Programs/repos/nostrfastr/.venv/lib/python3.11/site-packages/sqlalchemy/dialects/sqlite/aiosqlite.py\", line 254, in _handle_exception\n",
      "    raise error\n",
      "  File \"/Users/nicolasbourbon/Documents/Personal/Python/Programs/repos/nostrfastr/.venv/lib/python3.11/site-packages/sqlalchemy/dialects/sqlite/aiosqlite.py\", line 95, in execute\n",
      "    self.await_(_cursor.execute(operation, parameters))\n",
      "  File \"/Users/nicolasbourbon/Documents/Personal/Python/Programs/repos/nostrfastr/.venv/lib/python3.11/site-packages/sqlalchemy/util/_concurrency_py3k.py\", line 102, in await_only\n",
      "    return current.driver.switch(awaitable)  # type: ignore[no-any-return]\n",
      "           ^^^^^^^^^^^^^^^^^^^^^^^^^^^^^^^^\n",
      "  File \"/Users/nicolasbourbon/Documents/Personal/Python/Programs/repos/nostrfastr/.venv/lib/python3.11/site-packages/sqlalchemy/util/_concurrency_py3k.py\", line 160, in greenlet_spawn\n",
      "    value = await result\n",
      "            ^^^^^^^^^^^^\n",
      "  File \"/Users/nicolasbourbon/Documents/Personal/Python/Programs/repos/nostrfastr/.venv/lib/python3.11/site-packages/aiosqlite/cursor.py\", line 37, in execute\n",
      "    await self._execute(self._cursor.execute, sql, parameters)\n",
      "  File \"/Users/nicolasbourbon/Documents/Personal/Python/Programs/repos/nostrfastr/.venv/lib/python3.11/site-packages/aiosqlite/cursor.py\", line 31, in _execute\n",
      "    return await self._conn._execute(fn, *args, **kwargs)\n",
      "           ^^^^^^^^^^^^^^^^^^^^^^^^^^^^^^^^^^^^^^^^^^^^^^\n",
      "  File \"/Users/nicolasbourbon/Documents/Personal/Python/Programs/repos/nostrfastr/.venv/lib/python3.11/site-packages/aiosqlite/core.py\", line 137, in _execute\n",
      "    return await future\n",
      "           ^^^^^^^^^^^^\n",
      "  File \"/Users/nicolasbourbon/Documents/Personal/Python/Programs/repos/nostrfastr/.venv/lib/python3.11/site-packages/aiosqlite/core.py\", line 110, in run\n",
      "    result = function()\n",
      "             ^^^^^^^^^^\n",
      "sqlalchemy.exc.OperationalError: (sqlite3.OperationalError) no such table: events\n",
      "[SQL: \n",
      "        DELETE FROM events WHERE events.id IN\n",
      "        (\n",
      "            SELECT events.id FROM events\n",
      "            LEFT JOIN tags on tags.id = events.id\n",
      "            WHERE \n",
      "                (kind >= 20000 and kind < 30000)\n",
      "            OR\n",
      "                (tags.name = 'expiration' AND tags.value < '1676584467')\n",
      "        )\n",
      "    ]\n",
      "(Background on this error at: https://sqlalche.me/e/20/e3q8)\n",
      "2023-02-16 18:59:27,825 - nostr_relay.storage:gc - ERROR - run_once\n",
      "Traceback (most recent call last):\n",
      "  File \"/Users/nicolasbourbon/Documents/Personal/Python/Programs/repos/nostrfastr/.venv/lib/python3.11/site-packages/sqlalchemy/engine/base.py\", line 1964, in _exec_single_context\n",
      "    self.dialect.do_execute(\n",
      "  File \"/Users/nicolasbourbon/Documents/Personal/Python/Programs/repos/nostrfastr/.venv/lib/python3.11/site-packages/sqlalchemy/engine/default.py\", line 747, in do_execute\n",
      "    cursor.execute(statement, parameters)\n",
      "  File \"/Users/nicolasbourbon/Documents/Personal/Python/Programs/repos/nostrfastr/.venv/lib/python3.11/site-packages/sqlalchemy/dialects/sqlite/aiosqlite.py\", line 113, in execute\n",
      "    self._adapt_connection._handle_exception(error)\n",
      "  File \"/Users/nicolasbourbon/Documents/Personal/Python/Programs/repos/nostrfastr/.venv/lib/python3.11/site-packages/sqlalchemy/dialects/sqlite/aiosqlite.py\", line 254, in _handle_exception\n",
      "    raise error\n",
      "  File \"/Users/nicolasbourbon/Documents/Personal/Python/Programs/repos/nostrfastr/.venv/lib/python3.11/site-packages/sqlalchemy/dialects/sqlite/aiosqlite.py\", line 95, in execute\n",
      "    self.await_(_cursor.execute(operation, parameters))\n",
      "  File \"/Users/nicolasbourbon/Documents/Personal/Python/Programs/repos/nostrfastr/.venv/lib/python3.11/site-packages/sqlalchemy/util/_concurrency_py3k.py\", line 102, in await_only\n",
      "    return current.driver.switch(awaitable)  # type: ignore[no-any-return]\n",
      "           ^^^^^^^^^^^^^^^^^^^^^^^^^^^^^^^^\n",
      "  File \"/Users/nicolasbourbon/Documents/Personal/Python/Programs/repos/nostrfastr/.venv/lib/python3.11/site-packages/sqlalchemy/util/_concurrency_py3k.py\", line 160, in greenlet_spawn\n",
      "    value = await result\n",
      "            ^^^^^^^^^^^^\n",
      "  File \"/Users/nicolasbourbon/Documents/Personal/Python/Programs/repos/nostrfastr/.venv/lib/python3.11/site-packages/aiosqlite/cursor.py\", line 37, in execute\n",
      "    await self._execute(self._cursor.execute, sql, parameters)\n",
      "  File \"/Users/nicolasbourbon/Documents/Personal/Python/Programs/repos/nostrfastr/.venv/lib/python3.11/site-packages/aiosqlite/cursor.py\", line 31, in _execute\n",
      "    return await self._conn._execute(fn, *args, **kwargs)\n",
      "           ^^^^^^^^^^^^^^^^^^^^^^^^^^^^^^^^^^^^^^^^^^^^^^\n",
      "  File \"/Users/nicolasbourbon/Documents/Personal/Python/Programs/repos/nostrfastr/.venv/lib/python3.11/site-packages/aiosqlite/core.py\", line 137, in _execute\n",
      "    return await future\n",
      "           ^^^^^^^^^^^^\n",
      "  File \"/Users/nicolasbourbon/Documents/Personal/Python/Programs/repos/nostrfastr/.venv/lib/python3.11/site-packages/aiosqlite/core.py\", line 110, in run\n",
      "    result = function()\n",
      "             ^^^^^^^^^^\n",
      "sqlite3.OperationalError: no such table: events\n",
      "\n",
      "The above exception was the direct cause of the following exception:\n",
      "\n",
      "Traceback (most recent call last):\n",
      "  File \"/Users/nicolasbourbon/Documents/Personal/Python/Programs/repos/nostrfastr/.venv/lib/python3.11/site-packages/nostr_relay/util.py\", line 114, in _run\n",
      "    await self.run_once()\n",
      "  File \"/Library/Frameworks/Python.framework/Versions/3.11/lib/python3.11/contextlib.py\", line 222, in __aexit__\n",
      "    await self.gen.athrow(typ, value, traceback)\n",
      "  File \"/Users/nicolasbourbon/Documents/Personal/Python/Programs/repos/nostrfastr/.venv/lib/python3.11/site-packages/sqlalchemy/ext/asyncio/engine.py\", line 968, in begin\n",
      "    yield conn\n",
      "  File \"/Users/nicolasbourbon/Documents/Personal/Python/Programs/repos/nostrfastr/.venv/lib/python3.11/site-packages/nostr_relay/storage/base.py\", line 330, in run_once\n",
      "    collected = await self.collect(conn)\n",
      "                ^^^^^^^^^^^^^^^^^^^^^^^^\n",
      "  File \"/Users/nicolasbourbon/Documents/Personal/Python/Programs/repos/nostrfastr/.venv/lib/python3.11/site-packages/nostr_relay/storage/db.py\", line 690, in collect\n",
      "    result = await conn.execute(\n",
      "             ^^^^^^^^^^^^^^^^^^^\n",
      "  File \"/Users/nicolasbourbon/Documents/Personal/Python/Programs/repos/nostrfastr/.venv/lib/python3.11/site-packages/sqlalchemy/ext/asyncio/engine.py\", line 594, in execute\n",
      "    result = await greenlet_spawn(\n",
      "             ^^^^^^^^^^^^^^^^^^^^^\n",
      "  File \"/Users/nicolasbourbon/Documents/Personal/Python/Programs/repos/nostrfastr/.venv/lib/python3.11/site-packages/sqlalchemy/util/_concurrency_py3k.py\", line 165, in greenlet_spawn\n",
      "    result = context.throw(*sys.exc_info())\n",
      "             ^^^^^^^^^^^^^^^^^^^^^^^^^^^^^^\n",
      "  File \"/Users/nicolasbourbon/Documents/Personal/Python/Programs/repos/nostrfastr/.venv/lib/python3.11/site-packages/sqlalchemy/engine/base.py\", line 1414, in execute\n",
      "    return meth(\n",
      "           ^^^^^\n",
      "  File \"/Users/nicolasbourbon/Documents/Personal/Python/Programs/repos/nostrfastr/.venv/lib/python3.11/site-packages/sqlalchemy/sql/elements.py\", line 485, in _execute_on_connection\n",
      "    return connection._execute_clauseelement(\n",
      "           ^^^^^^^^^^^^^^^^^^^^^^^^^^^^^^^^^^\n",
      "  File \"/Users/nicolasbourbon/Documents/Personal/Python/Programs/repos/nostrfastr/.venv/lib/python3.11/site-packages/sqlalchemy/engine/base.py\", line 1638, in _execute_clauseelement\n",
      "    ret = self._execute_context(\n",
      "          ^^^^^^^^^^^^^^^^^^^^^^\n",
      "  File \"/Users/nicolasbourbon/Documents/Personal/Python/Programs/repos/nostrfastr/.venv/lib/python3.11/site-packages/sqlalchemy/engine/base.py\", line 1842, in _execute_context\n",
      "    return self._exec_single_context(\n",
      "           ^^^^^^^^^^^^^^^^^^^^^^^^^^\n",
      "  File \"/Users/nicolasbourbon/Documents/Personal/Python/Programs/repos/nostrfastr/.venv/lib/python3.11/site-packages/sqlalchemy/engine/base.py\", line 1983, in _exec_single_context\n",
      "    self._handle_dbapi_exception(\n",
      "  File \"/Users/nicolasbourbon/Documents/Personal/Python/Programs/repos/nostrfastr/.venv/lib/python3.11/site-packages/sqlalchemy/engine/base.py\", line 2325, in _handle_dbapi_exception\n",
      "    raise sqlalchemy_exception.with_traceback(exc_info[2]) from e\n",
      "  File \"/Users/nicolasbourbon/Documents/Personal/Python/Programs/repos/nostrfastr/.venv/lib/python3.11/site-packages/sqlalchemy/engine/base.py\", line 1964, in _exec_single_context\n",
      "    self.dialect.do_execute(\n",
      "  File \"/Users/nicolasbourbon/Documents/Personal/Python/Programs/repos/nostrfastr/.venv/lib/python3.11/site-packages/sqlalchemy/engine/default.py\", line 747, in do_execute\n",
      "    cursor.execute(statement, parameters)\n",
      "  File \"/Users/nicolasbourbon/Documents/Personal/Python/Programs/repos/nostrfastr/.venv/lib/python3.11/site-packages/sqlalchemy/dialects/sqlite/aiosqlite.py\", line 113, in execute\n",
      "    self._adapt_connection._handle_exception(error)\n",
      "  File \"/Users/nicolasbourbon/Documents/Personal/Python/Programs/repos/nostrfastr/.venv/lib/python3.11/site-packages/sqlalchemy/dialects/sqlite/aiosqlite.py\", line 254, in _handle_exception\n",
      "    raise error\n",
      "  File \"/Users/nicolasbourbon/Documents/Personal/Python/Programs/repos/nostrfastr/.venv/lib/python3.11/site-packages/sqlalchemy/dialects/sqlite/aiosqlite.py\", line 95, in execute\n",
      "    self.await_(_cursor.execute(operation, parameters))\n",
      "  File \"/Users/nicolasbourbon/Documents/Personal/Python/Programs/repos/nostrfastr/.venv/lib/python3.11/site-packages/sqlalchemy/util/_concurrency_py3k.py\", line 102, in await_only\n",
      "    return current.driver.switch(awaitable)  # type: ignore[no-any-return]\n",
      "           ^^^^^^^^^^^^^^^^^^^^^^^^^^^^^^^^\n",
      "  File \"/Users/nicolasbourbon/Documents/Personal/Python/Programs/repos/nostrfastr/.venv/lib/python3.11/site-packages/sqlalchemy/util/_concurrency_py3k.py\", line 160, in greenlet_spawn\n",
      "    value = await result\n",
      "            ^^^^^^^^^^^^\n",
      "  File \"/Users/nicolasbourbon/Documents/Personal/Python/Programs/repos/nostrfastr/.venv/lib/python3.11/site-packages/aiosqlite/cursor.py\", line 37, in execute\n",
      "    await self._execute(self._cursor.execute, sql, parameters)\n",
      "  File \"/Users/nicolasbourbon/Documents/Personal/Python/Programs/repos/nostrfastr/.venv/lib/python3.11/site-packages/aiosqlite/cursor.py\", line 31, in _execute\n",
      "    return await self._conn._execute(fn, *args, **kwargs)\n",
      "           ^^^^^^^^^^^^^^^^^^^^^^^^^^^^^^^^^^^^^^^^^^^^^^\n",
      "  File \"/Users/nicolasbourbon/Documents/Personal/Python/Programs/repos/nostrfastr/.venv/lib/python3.11/site-packages/aiosqlite/core.py\", line 137, in _execute\n",
      "    return await future\n",
      "           ^^^^^^^^^^^^\n",
      "  File \"/Users/nicolasbourbon/Documents/Personal/Python/Programs/repos/nostrfastr/.venv/lib/python3.11/site-packages/aiosqlite/core.py\", line 110, in run\n",
      "    result = function()\n",
      "             ^^^^^^^^^^\n",
      "sqlalchemy.exc.OperationalError: (sqlite3.OperationalError) no such table: events\n",
      "[SQL: \n",
      "        DELETE FROM events WHERE events.id IN\n",
      "        (\n",
      "            SELECT events.id FROM events\n",
      "            LEFT JOIN tags on tags.id = events.id\n",
      "            WHERE \n",
      "                (kind >= 20000 and kind < 30000)\n",
      "            OR\n",
      "                (tags.name = 'expiration' AND tags.value < '1676584767')\n",
      "        )\n",
      "    ]\n",
      "(Background on this error at: https://sqlalche.me/e/20/e3q8)\n"
     ]
    }
   ],
   "source": [
    "for kind in EventKind:\n",
    "    display(kind)"
   ]
  },
  {
   "attachments": {},
   "cell_type": "markdown",
   "metadata": {},
   "source": [
    "## Relays, Relay Management, and the Message Pool\n",
    "Though this package is primarily focused on the tools needed to run a nostr client - we will talk a bit about only enough to understand how they serve the client. More detailed information on relays can always be found in the [NIPs section of the nostr github repository](https://github.com/nostr-protocol/nips). For testing in this package we are going to use a python package called `nostr-relay`, which is installed alongside this package. It will run a local server that we can connect to instead of pinging public servers over and over with tests.\n",
    "\n",
    "Relays act as a simple data server for clients to interact with. Clients can publish events a relay and make requests (in the form of subscriptions) to get events back from a relay.\n",
    "\n",
    "Connections between clients and relays are made over a 'websocket' (typically handled by [websockets](https://websockets.readthedocs.io/en/stable/) in Python). A single websocket between a client and a relay can handle all data requests and typically should remain open as long as the client is live. Repeated connection and disconnections of websockets can put extra, unneeded strain on relays.\n",
    "\n",
    "The message types that can be exchanged between a client and a relay are outlined [here](https://github.com/nostr-protocol/nips#message-types):\n",
    "\n",
    " - client to relay\n",
    "     - `EVENT` - A nostr event being published to a relay\n",
    "     - `REQ` - a client requesting a subscription to events from a relay\n",
    "     - `CLOSE` - a client closing a subscription\n",
    " - relay to client\n",
    "     - `EVENT` - an incoming event from a relay\n",
    "     - `NOTICE` - human-readable text with an explanation of any issues\n",
    "     - `EOSE` - a notice that all past stored messages have been transferred and that all future messages are newly published\n",
    "     - `OK` - a True/False response if an EVENT was published successfully\n",
    "\n",
    "`python-nostr` uses a `MessagePool` class to `Queue` the incoming stream of messages from the individial `Relay` websockets that are all running on different threads.\n",
    "\n",
    "This package implements slightly modified versions of the `Relay`, `RelayManager`, and `MessagePool` classes found in `python-nostr` the basic usage is nearly identical, with a few added features that make building a the `Client` class easier. Added features that aren't yet included in `python-nostr`:\n",
    "\n",
    " - a `Connection` context manager that is used to open connections on a `Relay` or `RelayManager` object using a `with` statement\n",
    " - `Relay`\n",
    "     - an `open_connections` method on a single relay to mirror the thread-based connection opening used in the `RelayManager` class.\n",
    "     - an `is_connected` property to see if the websocket is open\n",
    " - `RelayManager`\n",
    "     - additional connection management methods to make relay manager more robust to inactive connections\n",
    "     - an `__iter__` method that allows the client to access the `Relay` objects by iterating directly on the `RelayManager` object instead of `RelayManager.relays.values()`"
   ]
  },
  {
   "cell_type": "code",
   "execution_count": null,
   "metadata": {},
   "outputs": [],
   "source": [
    "#| hide\n",
    "#| export\n",
    "import json\n",
    "import time\n",
    "import warnings\n",
    "import threading\n",
    "from threading import Lock\n",
    "from typing import Union\n",
    "from queue import Queue\n",
    "from nostr import message_pool\n",
    "from nostr import relay, relay_manager\n",
    "from nostr.relay import RelayPolicy\n",
    "from nostr.message_pool import EventMessage, NoticeMessage, EndOfStoredEventsMessage\n",
    "from nostr.message_type import RelayMessageType\n",
    "from nostr.event import Event"
   ]
  },
  {
   "cell_type": "code",
   "execution_count": null,
   "metadata": {},
   "outputs": [],
   "source": [
    "from nostr import relay, relay_manager"
   ]
  },
  {
   "cell_type": "code",
   "execution_count": null,
   "metadata": {},
   "outputs": [],
   "source": [
    "#| hide\n",
    "#| export\n",
    "\n",
    "class MessagePool(relay_manager.MessagePool):\n",
    "    def __init__(self, first_response_only: bool = True):\n",
    "        self.first_response_only = first_response_only\n",
    "        self.events: Queue[EventMessage] = Queue()\n",
    "        self.notices: Queue[NoticeMessage] = Queue()\n",
    "        self.eose_notices: Queue[EndOfStoredEventsMessage] = Queue()\n",
    "        self._unique_objects: set = set()\n",
    "        self.lock: Lock = Lock()\n",
    "\n",
    "    def _process_message(self, message: str, url: str):\n",
    "        message_json = json.loads(message)\n",
    "        message_type = message_json[0]\n",
    "        if message_type == RelayMessageType.EVENT:\n",
    "            subscription_id = message_json[1]\n",
    "            e = message_json[2]\n",
    "            event = Event(e['pubkey'], e['content'], e['created_at'], e['kind'], e['tags'], e['id'], e['sig'])\n",
    "            with self.lock:\n",
    "                if self.first_response_only:\n",
    "                    object_id = event.id\n",
    "                else:\n",
    "                    object_id = f'{event.id}:{url}'\n",
    "                if object_id not in self._unique_objects:\n",
    "                    self.events.put(EventMessage(event, subscription_id, url))\n",
    "                    self._unique_objects.add(event.id)\n"
   ]
  },
  {
   "cell_type": "code",
   "execution_count": null,
   "metadata": {},
   "outputs": [],
   "source": [
    "#| hide\n",
    "#| export\n",
    "\n",
    "class Connection:\n",
    "    def __init__(self, relay_or_manager: Union[relay.Relay, relay_manager.RelayManager],\n",
    "                 *args, **kwargs):\n",
    "        self.relay_manager = relay_or_manager\n",
    "        self.conn = self.relay_manager.open_connections(*args, **kwargs)\n",
    "    def __enter__(self):\n",
    "        return self.conn\n",
    "    def __exit__(self, ex_type, ex_value, traceback):\n",
    "        self.relay_manager.close_connections()\n",
    "        return False\n",
    "\n",
    "\n",
    "class Relay(relay.Relay):\n",
    "    def __init__(self, *args, **kwargs):\n",
    "        super().__init__(*args, **kwargs)\n",
    "\n",
    "    def __repr__(self):\n",
    "        return json.dumps(self.to_json_object(), indent=2)\n",
    "\n",
    "    @property\n",
    "    def is_connected(self) -> bool:\n",
    "        return False if self.ws.sock is None else self.ws.sock.connected\n",
    "    \n",
    "    def open_connections(self, ssl_options: dict={}):\n",
    "        threading.Thread(\n",
    "                target=self.connect,\n",
    "                args=(ssl_options,),\n",
    "                name=f\"{self.url}-thread\"\n",
    "        ).start()\n",
    "    \n",
    "    def close(self):\n",
    "        if self.ws.sock is not None:\n",
    "            self.ws.close()\n",
    "    \n",
    "    def close_connections(self):\n",
    "        self.close()\n",
    "    \n",
    "    def connection(self, *args, **kwargs):\n",
    "        return Connection(self, *args, **kwargs)\n"
   ]
  },
  {
   "cell_type": "code",
   "execution_count": null,
   "metadata": {},
   "outputs": [],
   "source": [
    "#| hide\n",
    "#| export\n",
    "\n",
    "class RelayManager(relay_manager.RelayManager):\n",
    "    def __init__(self, first_response_only: bool = True,  *args, **kwargs):\n",
    "        super().__init__(*args, **kwargs)\n",
    "        self.relays: dict[str, Relay] = {}\n",
    "        self.message_pool = MessagePool(first_response_only=first_response_only)\n",
    "        self._is_connected = False\n",
    "\n",
    "    def __iter__(self):\n",
    "        return iter(self.relays.values())\n",
    "    \n",
    "    def connection(self, *args, **kwargs):\n",
    "        return Connection(self, *args, **kwargs)\n",
    "    \n",
    "    def open_connections(self, ssl_options: dict=None):\n",
    "        for relay in self.relays.values():\n",
    "            if not relay.is_connected:\n",
    "                threading.Thread(\n",
    "                    target=relay.connect,\n",
    "                    args=(ssl_options,),\n",
    "                    name=f\"{relay.url}-thread\"\n",
    "                ).start()\n",
    "        time.sleep(2)\n",
    "        self.remove_closed_relays()\n",
    "        assert all(self.connection_statuses.values())\n",
    "        self._is_connected = True\n",
    "    \n",
    "    def close_connections(self):\n",
    "        for relay in self.relays.values():\n",
    "            relay.close()\n",
    "\n",
    "        assert not any(self.connection_statuses.values())\n",
    "        self._is_connected = False\n",
    "\n",
    "    def remove_closed_relays(self):\n",
    "        for url, connected in self.connection_statuses.items():\n",
    "            if not connected:\n",
    "                warnings.warn(\n",
    "                    f'{url} is not connected... removing relay.'\n",
    "                )\n",
    "                self.remove_relay(url=url)\n",
    "\n",
    "    def add_relay(self, url: str, read: bool=True, write: bool=True, subscriptions=None):\n",
    "        subscriptions = subscriptions if subscriptions is not None else {}\n",
    "        policy = RelayPolicy(read, write)\n",
    "        relay = Relay(url, policy, self.message_pool, subscriptions)\n",
    "        self.relays[url] = relay\n",
    "    \n",
    "    def remove_relay(self, url: str):\n",
    "        self.relays[url].close()\n",
    "        self.relays.pop(url)\n",
    "\n",
    "    @property\n",
    "    def connection_statuses(self) -> dict:\n",
    "        \"\"\"gets the url and connection statuses of relays\n",
    "\n",
    "        Returns:\n",
    "            dict: bool of connection statuses\n",
    "        \"\"\"\n",
    "        statuses = [relay.is_connected for relay in self]\n",
    "        return dict(zip(self.relays.keys(), statuses))"
   ]
  },
  {
   "attachments": {},
   "cell_type": "markdown",
   "metadata": {},
   "source": [
    "### Relay\n",
    "The documentation below shows how a Relay is instantiated using `python-nostr`. The relay policy is defined by the `RelayPolicy` class"
   ]
  },
  {
   "cell_type": "code",
   "execution_count": null,
   "metadata": {},
   "outputs": [
    {
     "data": {
      "text/markdown": [
       "---\n",
       "\n",
       "### Relay\n",
       "\n",
       ">      Relay (url:str, policy:nostr.relay.RelayPolicy,\n",
       ">             message_pool:nostr.message_pool.MessagePool,\n",
       ">             subscriptions:dict[str,nostr.subscription.Subscription]={})\n",
       "\n",
       "Initialize self.  See help(type(self)) for accurate signature."
      ],
      "text/plain": [
       "---\n",
       "\n",
       "### Relay\n",
       "\n",
       ">      Relay (url:str, policy:nostr.relay.RelayPolicy,\n",
       ">             message_pool:nostr.message_pool.MessagePool,\n",
       ">             subscriptions:dict[str,nostr.subscription.Subscription]={})\n",
       "\n",
       "Initialize self.  See help(type(self)) for accurate signature."
      ]
     },
     "execution_count": null,
     "metadata": {},
     "output_type": "execute_result"
    }
   ],
   "source": [
    "show_doc(relay.Relay)"
   ]
  },
  {
   "attachments": {},
   "cell_type": "markdown",
   "metadata": {},
   "source": [
    "Remember that in this package we will use a `Relay` class that inherits the `python-nostr` relay class. The same will go for the relay manager and the message pool."
   ]
  },
  {
   "cell_type": "code",
   "execution_count": null,
   "metadata": {},
   "outputs": [],
   "source": [
    "assert issubclass(Relay, relay.Relay) and \\\n",
    "       issubclass(RelayManager, relay_manager.RelayManager) and \\\n",
    "       issubclass(MessagePool, message_pool.MessagePool)"
   ]
  },
  {
   "attachments": {},
   "cell_type": "markdown",
   "metadata": {},
   "source": [
    "Below we test using the context manager from the `Relay` class in this package to connect and disconnect to a relay."
   ]
  },
  {
   "cell_type": "code",
   "execution_count": null,
   "metadata": {},
   "outputs": [],
   "source": [
    "import ssl"
   ]
  },
  {
   "cell_type": "code",
   "execution_count": null,
   "metadata": {},
   "outputs": [
    {
     "name": "stderr",
     "output_type": "stream",
     "text": [
      "INFO:     ('127.0.0.1', 51211) - \"WebSocket /\" [accepted]\n"
     ]
    },
    {
     "name": "stdout",
     "output_type": "stream",
     "text": [
      "2023-01-21 09:35:27,716 - nostr_relay.web - INFO - Accepted 127.0.0.1-2a7e from Origin: http://127.0.0.1:6969\n"
     ]
    },
    {
     "name": "stderr",
     "output_type": "stream",
     "text": [
      "INFO:     connection open\n"
     ]
    },
    {
     "name": "stdout",
     "output_type": "stream",
     "text": [
      "2023-01-21 09:35:27,725 - websocket - WARNING - websocket connected\n",
      "Is the relay connected? True\n",
      "2023-01-21 09:35:28,212 - nostr_relay.web - INFO - Done 127.0.0.1-2a7e. sent: 0 bytes. duration: 0sec\n"
     ]
    },
    {
     "name": "stderr",
     "output_type": "stream",
     "text": [
      "INFO:     connection closed\n"
     ]
    }
   ],
   "source": [
    "url='ws://127.0.0.1:6969'\n",
    "\n",
    "a_relay = Relay(\n",
    "    url=url,\n",
    "    policy=RelayPolicy(),\n",
    "    message_pool=MessagePool()\n",
    "    )\n",
    "\n",
    "assert not a_relay.is_connected\n",
    "\n",
    "with a_relay.connection(ssl_options={'cert_reqs': ssl.CERT_NONE}):\n",
    "    time.sleep(.5)\n",
    "    print(f'Is the relay connected? {a_relay.is_connected}')\n",
    "assert not a_relay.is_connected\n",
    "time.sleep(.5)"
   ]
  },
  {
   "attachments": {},
   "cell_type": "markdown",
   "metadata": {},
   "source": [
    "and make sure that when it errors out it properly reports the error and proceeds to safely close the connection to the relay"
   ]
  },
  {
   "cell_type": "code",
   "execution_count": null,
   "metadata": {},
   "outputs": [],
   "source": [
    "from fastcore.test import test_fail"
   ]
  },
  {
   "cell_type": "code",
   "execution_count": null,
   "metadata": {},
   "outputs": [
    {
     "name": "stderr",
     "output_type": "stream",
     "text": [
      "INFO:     ('127.0.0.1', 51216) - \"WebSocket /\" [accepted]\n"
     ]
    },
    {
     "name": "stdout",
     "output_type": "stream",
     "text": [
      "2023-01-21 09:35:29,804 - nostr_relay.web - INFO - Accepted 127.0.0.1-b577 from Origin: http://127.0.0.1:6969\n"
     ]
    },
    {
     "name": "stderr",
     "output_type": "stream",
     "text": [
      "INFO:     connection open\n"
     ]
    },
    {
     "name": "stdout",
     "output_type": "stream",
     "text": [
      "2023-01-21 09:35:29,817 - websocket - WARNING - websocket connected\n",
      "2023-01-21 09:35:30,303 - nostr_relay.web - INFO - Done 127.0.0.1-b577. sent: 0 bytes. duration: 0sec\n"
     ]
    },
    {
     "name": "stderr",
     "output_type": "stream",
     "text": [
      "INFO:     connection closed\n"
     ]
    }
   ],
   "source": [
    "def error_in_context():\n",
    "    with a_relay.connection(ssl_options={'cert_reqs': ssl.CERT_NONE}):\n",
    "        time.sleep(.5)\n",
    "        raise Exception()\n",
    "test_fail(error_in_context)\n",
    "assert not a_relay.is_connected"
   ]
  },
  {
   "attachments": {},
   "cell_type": "markdown",
   "metadata": {},
   "source": [
    "Let's try to publish an event to a our local relay - typically you would do this through the relay manager as to publish content across multiple relays, but for testing purposes we will only use one."
   ]
  },
  {
   "cell_type": "code",
   "execution_count": null,
   "metadata": {},
   "outputs": [
    {
     "data": {
      "text/markdown": [
       "---\n",
       "\n",
       "### Relay.publish\n",
       "\n",
       ">      Relay.publish (message:str)"
      ],
      "text/plain": [
       "---\n",
       "\n",
       "### Relay.publish\n",
       "\n",
       ">      Relay.publish (message:str)"
      ]
     },
     "execution_count": null,
     "metadata": {},
     "output_type": "execute_result"
    }
   ],
   "source": [
    "show_doc(Relay.publish)"
   ]
  },
  {
   "cell_type": "code",
   "execution_count": null,
   "metadata": {},
   "outputs": [],
   "source": [
    "from nostr import message_type"
   ]
  },
  {
   "attachments": {},
   "cell_type": "markdown",
   "metadata": {},
   "source": [
    "We need to get our message to the relay [in the right format as specified by NIP-01](https://github.com/nostr-protocol/nips/blob/master/01.md#from-client-to-relay-sending-events-and-creating-subscriptions)"
   ]
  },
  {
   "cell_type": "code",
   "execution_count": null,
   "metadata": {},
   "outputs": [
    {
     "name": "stdout",
     "output_type": "stream",
     "text": [
      "[\"EVENT\", {\"id\": \"290b51301f55bf2ad51dba58e935cd6fbef8b9780c5e557a706c9403ae12b345\", \"pubkey\": \"91feaf1b03c1dc0ed61163f77b4cf4d1821cce392983d4c68d82207a773f12ee\", \"created_at\": 1674322516.899612, \"kind\": 1, \"tags\": [], \"content\": \"this is a test\", \"sig\": \"0c205776f1470aa1391d2556032b0a666fc9f88c5dfb1ddf968851a1186da8ea5ba3ca05c7202d68ee1b6b010323fd221220e13f16342cf319e7b347b12ed591\"}]\n"
     ]
    }
   ],
   "source": [
    "message = [message_type.ClientMessageType.EVENT, event.to_json_object()]\n",
    "message = json.dumps(message)\n",
    "print(message)"
   ]
  },
  {
   "attachments": {},
   "cell_type": "markdown",
   "metadata": {},
   "source": [
    "And now we can publish it."
   ]
  },
  {
   "cell_type": "code",
   "execution_count": null,
   "metadata": {},
   "outputs": [
    {
     "name": "stderr",
     "output_type": "stream",
     "text": [
      "INFO:     ('127.0.0.1', 51222) - \"WebSocket /\" [accepted]\n"
     ]
    },
    {
     "name": "stdout",
     "output_type": "stream",
     "text": [
      "2023-01-21 09:35:35,170 - nostr_relay.web - INFO - Accepted 127.0.0.1-3be4 from Origin: http://127.0.0.1:6969\n"
     ]
    },
    {
     "name": "stderr",
     "output_type": "stream",
     "text": [
      "INFO:     connection open\n"
     ]
    },
    {
     "name": "stdout",
     "output_type": "stream",
     "text": [
      "2023-01-21 09:35:35,176 - websocket - WARNING - websocket connected\n"
     ]
    },
    {
     "name": "stderr",
     "output_type": "stream",
     "text": [
      "INFO:     connection closed\n"
     ]
    },
    {
     "name": "stdout",
     "output_type": "stream",
     "text": [
      "2023-01-21 09:35:35,679 - nostr_relay.web - INFO - 127.0.0.1-3be4 added 290b51301f55bf2ad51dba58e935cd6fbef8b9780c5e557a706c9403ae12b345 from 91feaf1b03c1dc0ed61163f77b4cf4d1821cce392983d4c68d82207a773f12ee\n",
      "2023-01-21 09:35:35,685 - nostr_relay.web - INFO - Done 127.0.0.1-3be4. sent: 0 bytes. duration: 1sec\n"
     ]
    }
   ],
   "source": [
    "with a_relay.connection(ssl_options={'cert_reqs': ssl.CERT_NONE}):\n",
    "    time.sleep(.5)\n",
    "    a_relay.publish(message)"
   ]
  },
  {
   "attachments": {},
   "cell_type": "markdown",
   "metadata": {},
   "source": [
    "We will try to read this later."
   ]
  },
  {
   "attachments": {},
   "cell_type": "markdown",
   "metadata": {},
   "source": [
    "### Relay Manager\n",
    "Generally, most interactions will happen through the `RelayManager` class. The relay manager allows easy interaction across multiple relays. Key methods are documented below"
   ]
  },
  {
   "cell_type": "code",
   "execution_count": null,
   "metadata": {},
   "outputs": [
    {
     "data": {
      "text/markdown": [
       "---\n",
       "\n",
       "[source](https://github.com/armstrys/nostrfastr/blob/main/nostrfastr/nostr.py#L177){target=\"_blank\" style=\"float:right; font-size:smaller\"}\n",
       "\n",
       "### RelayManager.add_relay\n",
       "\n",
       ">      RelayManager.add_relay (url:str, read:bool=True, write:bool=True,\n",
       ">                              subscriptions=None)"
      ],
      "text/plain": [
       "---\n",
       "\n",
       "[source](https://github.com/armstrys/nostrfastr/blob/main/nostrfastr/nostr.py#L177){target=\"_blank\" style=\"float:right; font-size:smaller\"}\n",
       "\n",
       "### RelayManager.add_relay\n",
       "\n",
       ">      RelayManager.add_relay (url:str, read:bool=True, write:bool=True,\n",
       ">                              subscriptions=None)"
      ]
     },
     "execution_count": null,
     "metadata": {},
     "output_type": "execute_result"
    }
   ],
   "source": [
    "show_doc(RelayManager.add_relay)"
   ]
  },
  {
   "cell_type": "code",
   "execution_count": null,
   "metadata": {},
   "outputs": [
    {
     "data": {
      "text/markdown": [
       "---\n",
       "\n",
       "[source](https://github.com/armstrys/nostrfastr/blob/main/nostrfastr/nostr.py#L183){target=\"_blank\" style=\"float:right; font-size:smaller\"}\n",
       "\n",
       "### RelayManager.remove_relay\n",
       "\n",
       ">      RelayManager.remove_relay (url:str)"
      ],
      "text/plain": [
       "---\n",
       "\n",
       "[source](https://github.com/armstrys/nostrfastr/blob/main/nostrfastr/nostr.py#L183){target=\"_blank\" style=\"float:right; font-size:smaller\"}\n",
       "\n",
       "### RelayManager.remove_relay\n",
       "\n",
       ">      RelayManager.remove_relay (url:str)"
      ]
     },
     "execution_count": null,
     "metadata": {},
     "output_type": "execute_result"
    }
   ],
   "source": [
    "show_doc(RelayManager.remove_relay)"
   ]
  },
  {
   "cell_type": "code",
   "execution_count": null,
   "metadata": {},
   "outputs": [
    {
     "data": {
      "text/markdown": [
       "---\n",
       "\n",
       "### RelayManager.publish_message\n",
       "\n",
       ">      RelayManager.publish_message (message:str)"
      ],
      "text/plain": [
       "---\n",
       "\n",
       "### RelayManager.publish_message\n",
       "\n",
       ">      RelayManager.publish_message (message:str)"
      ]
     },
     "execution_count": null,
     "metadata": {},
     "output_type": "execute_result"
    }
   ],
   "source": [
    "show_doc(RelayManager.publish_message)"
   ]
  },
  {
   "attachments": {},
   "cell_type": "markdown",
   "metadata": {},
   "source": [
    "You can also access connection statuses of the relays with `RelayManager.connection_statuses`. Below we use that property to check connections after making a `RelayManager` object, adding a `Relay` and connecting with the context manager."
   ]
  },
  {
   "cell_type": "code",
   "execution_count": null,
   "metadata": {},
   "outputs": [
    {
     "name": "stderr",
     "output_type": "stream",
     "text": [
      "INFO:     ('127.0.0.1', 51225) - \"WebSocket /\" [accepted]\n"
     ]
    },
    {
     "name": "stdout",
     "output_type": "stream",
     "text": [
      "2023-01-21 09:35:40,202 - nostr_relay.web - INFO - Accepted 127.0.0.1-ef13 from Origin: http://127.0.0.1:6969\n"
     ]
    },
    {
     "name": "stderr",
     "output_type": "stream",
     "text": [
      "INFO:     connection open\n"
     ]
    },
    {
     "name": "stdout",
     "output_type": "stream",
     "text": [
      "2023-01-21 09:35:40,211 - websocket - WARNING - websocket connected\n",
      "opening\n",
      "{'ws://127.0.0.1:6969': True}\n",
      "closing\n",
      "{'ws://127.0.0.1:6969': False}\n",
      "2023-01-21 09:35:42,207 - nostr_relay.web - INFO - Done 127.0.0.1-ef13. sent: 0 bytes. duration: 2sec\n"
     ]
    }
   ],
   "source": [
    "manager = RelayManager()\n",
    "urls=[url]\n",
    "for url in urls:\n",
    "    manager.add_relay(url=url)\n",
    "\n",
    "with manager.connection():\n",
    "    print('opening')\n",
    "    print(manager.connection_statuses)\n",
    "    assert all(manager.connection_statuses.values())\n",
    "    print('closing')\n",
    "print(manager.connection_statuses)\n",
    "assert not any(manager.connection_statuses.values())\n"
   ]
  },
  {
   "attachments": {},
   "cell_type": "markdown",
   "metadata": {},
   "source": [
    "`Relay` objects that don't connect will be remove automatically and throw a warning."
   ]
  },
  {
   "cell_type": "code",
   "execution_count": null,
   "metadata": {},
   "outputs": [
    {
     "name": "stderr",
     "output_type": "stream",
     "text": [
      "INFO:     connection closed\n"
     ]
    },
    {
     "name": "stdout",
     "output_type": "stream",
     "text": [
      "2023-01-21 09:35:42,308 - websocket - ERROR - [Errno 8] nodename nor servname provided, or not known - goodbye\n"
     ]
    },
    {
     "name": "stderr",
     "output_type": "stream",
     "text": [
      "/var/folders/3x/w083pw853418fqm2blj59w480000gn/T/ipykernel_10817/1720938854.py:40: UserWarning: ws://this-relay-doesnt-exist.com is not connected... removing relay.\n",
      "  warnings.warn(\n"
     ]
    }
   ],
   "source": [
    "manager = RelayManager()\n",
    "urls=['ws://this-relay-doesnt-exist.com']\n",
    "for u in urls:\n",
    "    manager.add_relay(url=u)\n",
    "\n",
    "with manager.connection():\n",
    "    pass\n",
    "    assert len(manager.relays) == 0"
   ]
  },
  {
   "attachments": {},
   "cell_type": "markdown",
   "metadata": {},
   "source": [
    "### Message Pool\n",
    "\n",
    "Because we have multiple open websockets, the connections are threaded in Python. The `MessagePool` class acts as a shared Queue where different types of messages from the relay can all be accessed. The only significant change from the `python-nostr MessagePool` to this package is allowing the client to chose whether it should only keep the first event or whether it should keep multiples of event messages across all relays. Keeping all responses from all relays will allow the client to check how well distributed the user content is across the relays."
   ]
  },
  {
   "cell_type": "code",
   "execution_count": null,
   "metadata": {},
   "outputs": [
    {
     "data": {
      "text/markdown": [
       "---\n",
       "\n",
       "[source](https://github.com/armstrys/nostrfastr/blob/main/nostrfastr/nostr.py#L67){target=\"_blank\" style=\"float:right; font-size:smaller\"}\n",
       "\n",
       "### MessagePool\n",
       "\n",
       ">      MessagePool (first_response_only:bool=True)\n",
       "\n",
       "Initialize self.  See help(type(self)) for accurate signature."
      ],
      "text/plain": [
       "---\n",
       "\n",
       "[source](https://github.com/armstrys/nostrfastr/blob/main/nostrfastr/nostr.py#L67){target=\"_blank\" style=\"float:right; font-size:smaller\"}\n",
       "\n",
       "### MessagePool\n",
       "\n",
       ">      MessagePool (first_response_only:bool=True)\n",
       "\n",
       "Initialize self.  See help(type(self)) for accurate signature."
      ]
     },
     "execution_count": null,
     "metadata": {},
     "output_type": "execute_result"
    }
   ],
   "source": [
    "show_doc(MessagePool)"
   ]
  },
  {
   "attachments": {},
   "cell_type": "markdown",
   "metadata": {},
   "source": [
    "The key events to access the `MessagePool` in `python-nostr` are listed below. We will add more functionality at the client level to modify how these events are handled upon receipt."
   ]
  },
  {
   "cell_type": "code",
   "execution_count": null,
   "metadata": {},
   "outputs": [
    {
     "data": {
      "text/markdown": [
       "---\n",
       "\n",
       "### MessagePool.get_event\n",
       "\n",
       ">      MessagePool.get_event ()"
      ],
      "text/plain": [
       "---\n",
       "\n",
       "### MessagePool.get_event\n",
       "\n",
       ">      MessagePool.get_event ()"
      ]
     },
     "execution_count": null,
     "metadata": {},
     "output_type": "execute_result"
    }
   ],
   "source": [
    "show_doc(MessagePool.get_event)"
   ]
  },
  {
   "cell_type": "code",
   "execution_count": null,
   "metadata": {},
   "outputs": [
    {
     "data": {
      "text/markdown": [
       "---\n",
       "\n",
       "### MessagePool.get_notice\n",
       "\n",
       ">      MessagePool.get_notice ()"
      ],
      "text/plain": [
       "---\n",
       "\n",
       "### MessagePool.get_notice\n",
       "\n",
       ">      MessagePool.get_notice ()"
      ]
     },
     "execution_count": null,
     "metadata": {},
     "output_type": "execute_result"
    }
   ],
   "source": [
    "show_doc(MessagePool.get_notice)"
   ]
  },
  {
   "cell_type": "code",
   "execution_count": null,
   "metadata": {},
   "outputs": [
    {
     "data": {
      "text/markdown": [
       "---\n",
       "\n",
       "### MessagePool.get_eose_notice\n",
       "\n",
       ">      MessagePool.get_eose_notice ()"
      ],
      "text/plain": [
       "---\n",
       "\n",
       "### MessagePool.get_eose_notice\n",
       "\n",
       ">      MessagePool.get_eose_notice ()"
      ]
     },
     "execution_count": null,
     "metadata": {},
     "output_type": "execute_result"
    }
   ],
   "source": [
    "show_doc(MessagePool.get_eose_notice)"
   ]
  },
  {
   "attachments": {},
   "cell_type": "markdown",
   "metadata": {},
   "source": [
    "In order to populate the message pool we need subscriptions."
   ]
  },
  {
   "attachments": {},
   "cell_type": "markdown",
   "metadata": {},
   "source": [
    "## Subscriptions\n",
    "The nostr protocol requires clients to make requests (as subscriptions) to the relays in order to get events sent back (in our case, into the `MessagePool`). The `REQ` (request or subscription) query is also clearly outlined in [NIP-01](https://github.com/nostr-protocol/nips/blob/master/01.md#from-client-to-relay-sending-events-and-creating-subscriptions). A request must be labeled with a `subscription_id` and a series of filters that the relay will use to determine which events it should return. Current options for a single filter are as follow:\n",
    "\n",
    "- `ids` - a list of event IDs\n",
    "- `authors` - a list of authors (pubkeys), which could be something like a contact list\n",
    "- `kinds` - a list of kinds, such as `text_notes` (1) or `set_metadata` (0)\n",
    "- `tags` - a list of tags, like `e` event or `p` people tags\n",
    "- `since` - a time stamp that defines the earliest `created_at` that should be sent \n",
    "- `until` - a time stamp that defines the latest `created_at` that should be sent \n",
    "- `limit` - a limit of events to return upon initial request to keep the client from being overwhelmed if the query is wide\n",
    "\n",
    "A list of filters is provided in a `REQ` message and the following happens:\n",
    "\n",
    "- the relay returns all events in past storage that meet the union of all the filter specifications (i.e. each filter is handled separately)\n",
    "- the relay would then send an `End Of Stored Events` notice with the `subscription_id`\n",
    "- the relay will continue to send newly published events that meet the criteria until 1 of the following occurs:\n",
    "     - the websocket is closed (by any measure - intentional closure or client crash)\n",
    "     - no more events are being published because the `until` clause of a subscription is met\n",
    "     - the client sends a request with the same `subscription_id` and it overwrites the initial behavior\n",
    "     - the client sends a `CLOSE` message to close the `subscription_id`"
   ]
  },
  {
   "cell_type": "code",
   "execution_count": null,
   "metadata": {},
   "outputs": [],
   "source": [
    "from nostr import filter\n",
    "from nostr import subscription\n",
    "import uuid"
   ]
  },
  {
   "cell_type": "code",
   "execution_count": null,
   "metadata": {},
   "outputs": [
    {
     "data": {
      "text/markdown": [
       "---\n",
       "\n",
       "### Filter\n",
       "\n",
       ">      Filter (ids:list[str]=None, kinds:list[int]=None, authors:list[str]=None,\n",
       ">              since:int=None, until:int=None, tags:dict[str,list[str]]=None,\n",
       ">              limit:int=None)\n",
       "\n",
       "Initialize self.  See help(type(self)) for accurate signature."
      ],
      "text/plain": [
       "---\n",
       "\n",
       "### Filter\n",
       "\n",
       ">      Filter (ids:list[str]=None, kinds:list[int]=None, authors:list[str]=None,\n",
       ">              since:int=None, until:int=None, tags:dict[str,list[str]]=None,\n",
       ">              limit:int=None)\n",
       "\n",
       "Initialize self.  See help(type(self)) for accurate signature."
      ]
     },
     "execution_count": null,
     "metadata": {},
     "output_type": "execute_result"
    }
   ],
   "source": [
    "show_doc(filter.Filter)"
   ]
  },
  {
   "cell_type": "code",
   "execution_count": null,
   "metadata": {},
   "outputs": [
    {
     "data": {
      "text/markdown": [
       "---\n",
       "\n",
       "### Subscription\n",
       "\n",
       ">      Subscription (id:str, filters:nostr.filter.Filters=None)\n",
       "\n",
       "Initialize self.  See help(type(self)) for accurate signature."
      ],
      "text/plain": [
       "---\n",
       "\n",
       "### Subscription\n",
       "\n",
       ">      Subscription (id:str, filters:nostr.filter.Filters=None)\n",
       "\n",
       "Initialize self.  See help(type(self)) for accurate signature."
      ]
     },
     "execution_count": null,
     "metadata": {},
     "output_type": "execute_result"
    }
   ],
   "source": [
    "show_doc(subscription.Subscription)"
   ]
  },
  {
   "attachments": {},
   "cell_type": "markdown",
   "metadata": {},
   "source": [
    "We can create a subscription to request the event we created earlier"
   ]
  },
  {
   "cell_type": "code",
   "execution_count": null,
   "metadata": {},
   "outputs": [
    {
     "name": "stdout",
     "output_type": "stream",
     "text": [
      "[\"REQ\", \"10000\", {\"ids\": [\"290b51301f55bf2ad51dba58e935cd6fbef8b9780c5e557a706c9403ae12b345\"]}]\n"
     ]
    }
   ],
   "source": [
    "filters = filter.Filters([filter.Filter(ids=[event.id])])\n",
    "subscription_id = str(uuid.uuid4())\n",
    "request = [message_type.ClientMessageType.REQUEST, subscription_id]\n",
    "request.extend(filters.to_json_array())\n",
    "message = json.dumps(request)\n",
    "print(message)"
   ]
  },
  {
   "attachments": {},
   "cell_type": "markdown",
   "metadata": {},
   "source": [
    "Now we can get that from the relay we published it to"
   ]
  },
  {
   "cell_type": "code",
   "execution_count": null,
   "metadata": {},
   "outputs": [
    {
     "name": "stderr",
     "output_type": "stream",
     "text": [
      "INFO:     ('127.0.0.1', 51244) - \"WebSocket /\" [accepted]\n"
     ]
    },
    {
     "name": "stdout",
     "output_type": "stream",
     "text": [
      "2023-01-21 09:36:08,568 - nostr_relay.web - INFO - Accepted 127.0.0.1-eb74 from Origin: http://127.0.0.1:6969\n"
     ]
    },
    {
     "name": "stderr",
     "output_type": "stream",
     "text": [
      "INFO:     connection open\n"
     ]
    },
    {
     "name": "stdout",
     "output_type": "stream",
     "text": [
      "2023-01-21 09:36:08,577 - websocket - WARNING - websocket connected\n",
      "2023-01-21 09:36:11,075 - nostr_relay.db - INFO - 127.0.0.1-eb74/10000 query – events:1 duration:1ms\n",
      "event received from ws://127.0.0.1:6969 with subscription id ws://127.0.0.1:6969\n",
      "\tthis is a test\n",
      "2023-01-21 09:36:11,577 - nostr_relay.web - INFO - Done 127.0.0.1-eb74. sent: 400 bytes. duration: 3sec\n"
     ]
    },
    {
     "name": "stderr",
     "output_type": "stream",
     "text": [
      "INFO:     connection closed\n"
     ]
    }
   ],
   "source": [
    "manager = RelayManager()\n",
    "manager.add_relay(url)\n",
    "\n",
    "with manager.connection(ssl_options={'cert_reqs': ssl.CERT_NONE}):\n",
    "    time.sleep(.5)\n",
    "    manager.add_subscription(subscription_id, filters)\n",
    "    manager.publish_message(message)\n",
    "    time.sleep(.5)\n",
    "    while manager.message_pool.has_events():\n",
    "        event_msg = manager.message_pool.get_event()\n",
    "        print(f'event received from {event_msg.url} '\n",
    "                f'with subscription id {event_msg.url}\\n\\t'\n",
    "                f'{event_msg.event.content}')"
   ]
  },
  {
   "attachments": {},
   "cell_type": "markdown",
   "metadata": {},
   "source": [
    "We will use the `Client` class in this package to make subscriptions and publishing events even easier."
   ]
  },
  {
   "cell_type": "code",
   "execution_count": null,
   "metadata": {},
   "outputs": [],
   "source": [
    "#| hide\n",
    "import nbdev; nbdev.nbdev_export()"
   ]
  }
 ],
 "metadata": {
  "kernelspec": {
   "display_name": ".venv",
   "language": "python",
   "name": "python3"
  },
  "language_info": {
   "codemirror_mode": {
    "name": "ipython",
    "version": 3
   },
   "file_extension": ".py",
   "mimetype": "text/x-python",
   "name": "python",
   "nbconvert_exporter": "python",
   "pygments_lexer": "ipython3",
   "version": "3.11.1"
  },
  "vscode": {
   "interpreter": {
    "hash": "c26ae3e21f722655c3e5532cfbf6903a37c00e755f554f214d38c48972071139"
   }
  }
 },
 "nbformat": 4,
 "nbformat_minor": 4
}
